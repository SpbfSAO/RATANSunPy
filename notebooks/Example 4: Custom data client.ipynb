{
 "cells": [
  {
   "cell_type": "code",
   "execution_count": 132,
   "metadata": {},
   "outputs": [],
   "source": [
    "from radiosunpy.time import TimeRange \n",
    "#from radiosunpy.client import BaseClient\n",
    "from radiosunpy.scrapper import Scrapper\n",
    "from urllib.request import urlopen\n",
    "from urllib.parse import urlparse\n",
    "import re\n",
    "from astropy.table import Table\n",
    "\n",
    "\n",
    "from astropy.io.fits.verify import VerifyWarning\n",
    "import warnings\n",
    "warnings.filterwarnings(\"ignore\")\n",
    "warnings.simplefilter('ignore', category=VerifyWarning)"
   ]
  },
  {
   "cell_type": "markdown",
   "metadata": {},
   "source": [
    "## Custom data client\n",
    "In `radiosunpy` package there is a submodule called `Scrapper`, which can help you to built client with your custom data source - all you need is to prepare base url to the files in your data source and implement your own data proccesing \n",
    "\n",
    "For example, let's look at the process of collecting and preparing AR's flare probabilities info from Solar Monitor"
   ]
  },
  {
   "cell_type": "code",
   "execution_count": 93,
   "metadata": {},
   "outputs": [],
   "source": [
    "base_url = 'https://solarmonitor.org/data/%Y/%m/%d/meta/arm_forecast_%Y%m%d.txt'\n",
    "regex_pattern = '(arm_forecast_(\\d{8})\\.txt)'"
   ]
  },
  {
   "cell_type": "code",
   "execution_count": 100,
   "metadata": {},
   "outputs": [
    {
     "name": "stdout",
     "output_type": "stream",
     "text": [
      "SolarMonitor url: https://solarmonitor.org/data/2017/09/03/meta/arm_forecast_20170903.txt\n",
      "SolarMonitor url: https://solarmonitor.org/data/2017/09/04/meta/arm_forecast_20170904.txt\n",
      "SolarMonitor url: https://solarmonitor.org/data/2017/09/05/meta/arm_forecast_20170905.txt\n"
     ]
    }
   ],
   "source": [
    "scrapper = Scrapper(base_url, regex_pattern)\n",
    "timerange = TimeRange('2017-09-03', '2017-09-05')\n",
    "for url in scrapper.form_fileslist(timerange):\n",
    "    print(f'SolarMonitor url: {url}')"
   ]
  },
  {
   "cell_type": "code",
   "execution_count": 141,
   "metadata": {},
   "outputs": [],
   "source": [
    "class FlareProbabilities:\n",
    "    base_url = 'https://solarmonitor.org/data/%Y/%m/%d/meta/arm_forecast_%Y%m%d.txt'\n",
    "    regex_pattern = '(arm_forecast_(\\d{8})\\.txt)'\n",
    "\n",
    "    def acquire_data(self, timerange: TimeRange) -> list[str]:\n",
    "        scrapper = Scrapper(self.base_url, self.regex_pattern)\n",
    "        return scrapper.form_fileslist(timerange)\n",
    "    \n",
    "    def parse_date_from_url(self, url):\n",
    "        path = urlparse(url).path\n",
    "        match = re.search(r'/(\\d{4})/(\\d{2})/(\\d{2})/', path)\n",
    "        if match:\n",
    "            year, month, day = match.groups()\n",
    "            return f'{year}-{month}-{day}'\n",
    "        return None\n",
    "    \n",
    "    def parse_field(self, field):\n",
    "        if field == '...':\n",
    "            return None\n",
    "        return int(field)\n",
    "    \n",
    "    def parse_line(self, line):\n",
    "        parts = line.split()\n",
    "        noaa_number = parts[0]\n",
    "        mcintosh_class = parts[1]\n",
    "\n",
    "        # C-class fields\n",
    "        c_class_fields = parts[2].split('(')\n",
    "        c_class_mcevol = self.parse_field(c_class_fields[0])\n",
    "        c_class_mcstat = self.parse_field(c_class_fields[1].rstrip(')')) if len(c_class_fields) > 1 else None\n",
    "        c_class_noaa = self.parse_field(c_class_fields[2].rstrip(')')) if len(c_class_fields) > 1 else None\n",
    "\n",
    "        # M-class fields\n",
    "        m_class_fields = parts[3].split('(')\n",
    "        m_class_mcevol = self.parse_field(m_class_fields[0])\n",
    "        m_class_mcstat = self.parse_field(m_class_fields[1].rstrip(')')) if len(m_class_fields) > 1 else None\n",
    "        m_class_noaa = self.parse_field(m_class_fields[2].rstrip(')')) if len(m_class_fields) > 1 else None\n",
    "\n",
    "        # X-class fields\n",
    "        x_class_fields = parts[4].split('(')\n",
    "        x_class_mcevol = self.parse_field(x_class_fields[0])\n",
    "        x_class_mcstat = self.parse_field(x_class_fields[1].rstrip(')')) if len(x_class_fields) > 1 else None\n",
    "        x_class_noaa = self.parse_field(x_class_fields[2].rstrip(')')) if len(x_class_fields) > 1 else None\n",
    "\n",
    "        return [\n",
    "            noaa_number, \n",
    "            mcintosh_class, \n",
    "            c_class_mcevol,\n",
    "            c_class_mcstat, \n",
    "            c_class_noaa, \n",
    "            m_class_mcevol,\n",
    "            m_class_mcstat, \n",
    "            m_class_noaa, \n",
    "            x_class_mcevol,\n",
    "            x_class_mcstat, \n",
    "            x_class_noaa\n",
    "        ]\n",
    "\n",
    "    def form_data(self, file_urls: list[str]):\n",
    "        tables = []\n",
    "        for url in file_urls:\n",
    "            with urlopen(url) as response:\n",
    "                content = response.read().decode('utf-8').split('\\n') \n",
    "                date_text = self.parse_date_from_url(url)\n",
    "                table_data = [[date_text] + self.parse_line(line.strip()) for line in content if line.strip()]\n",
    "                tables.append(table_data)\n",
    "\n",
    "        flattened_data = [item for sublist in tables for item in sublist]\n",
    "        column_names = [\n",
    "            'Date', 'NOAA Number', 'McIntosh Class', \n",
    "            'C-class_MCEVOL', 'C-class_MCSTAT', 'C-class_NOAA',  \n",
    "            'M-class_MCEVOL', 'M-class_MCSTAT', 'M-class_NOAA',\n",
    "            'X-class_MCEVOL', 'X-class_MCSTAT', 'X-class_NOAA'\n",
    "        ]\n",
    "        result = Table(rows=flattened_data, names=column_names)\n",
    "        return result\n",
    "\n",
    "    def get_data(self, timerange):\n",
    "        file_urls = self.acquire_data(timerange)\n",
    "        return self.form_data(file_urls)\n"
   ]
  },
  {
   "cell_type": "code",
   "execution_count": 143,
   "metadata": {},
   "outputs": [
    {
     "data": {
      "text/html": [
       "<div><i>Table length=9</i>\n",
       "<table id=\"table4545368656\" class=\"table-striped table-bordered table-condensed\">\n",
       "<thead><tr><th>Date</th><th>NOAA Number</th><th>McIntosh Class</th><th>C-class_MCEVOL</th><th>C-class_MCSTAT</th><th>C-class_NOAA</th><th>M-class_MCEVOL</th><th>M-class_MCSTAT</th><th>M-class_NOAA</th><th>X-class_MCEVOL</th><th>X-class_MCSTAT</th><th>X-class_NOAA</th></tr></thead>\n",
       "<thead><tr><th>str10</th><th>str5</th><th>str3</th><th>object</th><th>int64</th><th>int64</th><th>object</th><th>int64</th><th>int64</th><th>object</th><th>int64</th><th>int64</th></tr></thead>\n",
       "<tr><td>2017-09-03</td><td>12673</td><td>Cso</td><td>10</td><td>17</td><td>5</td><td>0</td><td>3</td><td>1</td><td>0</td><td>0</td><td>1</td></tr>\n",
       "<tr><td>2017-09-03</td><td>12674</td><td>Fhc</td><td>None</td><td>0</td><td>80</td><td>None</td><td>55</td><td>15</td><td>None</td><td>0</td><td>1</td></tr>\n",
       "<tr><td>2017-09-03</td><td>12675</td><td>Cro</td><td>7</td><td>13</td><td>10</td><td>1</td><td>2</td><td>1</td><td>0</td><td>0</td><td>1</td></tr>\n",
       "<tr><td>2017-09-03</td><td>12676</td><td>Bxo</td><td>None</td><td>6</td><td>5</td><td>None</td><td>1</td><td>1</td><td>None</td><td>0</td><td>1</td></tr>\n",
       "<tr><td>2017-09-04</td><td>12673</td><td>Dsc</td><td>None</td><td>0</td><td>40</td><td>None</td><td>22</td><td>5</td><td>None</td><td>10</td><td>1</td></tr>\n",
       "<tr><td>2017-09-04</td><td>12674</td><td>Fhc</td><td>100</td><td>0</td><td>70</td><td>98</td><td>55</td><td>15</td><td>0</td><td>0</td><td>1</td></tr>\n",
       "<tr><td>2017-09-04</td><td>12675</td><td>Cro</td><td>7</td><td>13</td><td>10</td><td>1</td><td>2</td><td>1</td><td>0</td><td>0</td><td>1</td></tr>\n",
       "<tr><td>2017-09-04</td><td>12676</td><td>Bxo</td><td>9</td><td>6</td><td>5</td><td>1</td><td>1</td><td>1</td><td>0</td><td>0</td><td>1</td></tr>\n",
       "<tr><td>2017-09-04</td><td>12677</td><td>Axx</td><td>None</td><td>3</td><td>5</td><td>None</td><td>1</td><td>1</td><td>None</td><td>0</td><td>1</td></tr>\n",
       "</table></div>"
      ],
      "text/plain": [
       "<Table length=9>\n",
       "   Date    NOAA Number McIntosh Class ... X-class_MCSTAT X-class_NOAA\n",
       "  str10        str5         str3      ...     int64         int64    \n",
       "---------- ----------- -------------- ... -------------- ------------\n",
       "2017-09-03       12673            Cso ...              0            1\n",
       "2017-09-03       12674            Fhc ...              0            1\n",
       "2017-09-03       12675            Cro ...              0            1\n",
       "2017-09-03       12676            Bxo ...              0            1\n",
       "2017-09-04       12673            Dsc ...             10            1\n",
       "2017-09-04       12674            Fhc ...              0            1\n",
       "2017-09-04       12675            Cro ...              0            1\n",
       "2017-09-04       12676            Bxo ...              0            1\n",
       "2017-09-04       12677            Axx ...              0            1"
      ]
     },
     "execution_count": 143,
     "metadata": {},
     "output_type": "execute_result"
    }
   ],
   "source": [
    "timerange = TimeRange('2017-09-03', '2017-09-04')\n",
    "flares_table = FlareProbabilities()\n",
    "flares_table.get_data(timerange)"
   ]
  },
  {
   "cell_type": "markdown",
   "metadata": {},
   "source": [
    "As a result, we parsed a table of Solar Monitor flare probabilities without implementing a special parser for this data source. The only thing we did is made a processing of raw txt files"
   ]
  }
 ],
 "metadata": {
  "kernelspec": {
   "display_name": "Python 3",
   "language": "python",
   "name": "python3"
  },
  "language_info": {
   "codemirror_mode": {
    "name": "ipython",
    "version": 3
   },
   "file_extension": ".py",
   "mimetype": "text/x-python",
   "name": "python",
   "nbconvert_exporter": "python",
   "pygments_lexer": "ipython3",
   "version": "3.12.5"
  }
 },
 "nbformat": 4,
 "nbformat_minor": 2
}
