{
 "cells": [
  {
   "cell_type": "code",
   "execution_count": 22,
   "metadata": {},
   "outputs": [],
   "source": [
    "from ratansunpy.time import TimeRange \n",
    "from ratansunpy.client import RATANClient\n",
    "\n",
    "from astropy.io.fits.verify import VerifyWarning\n",
    "import warnings\n",
    "warnings.filterwarnings(\"ignore\")\n",
    "warnings.simplefilter('ignore', category=VerifyWarning)"
   ]
  },
  {
   "cell_type": "markdown",
   "metadata": {},
   "source": [
    "## Acquiring RATAN-600 data\n",
    "In `radiosunpy` package sofisticated process of data calibration  was implemented (see link).\n",
    "In this notebook the example of\n",
    "data loading and processing is presented with futher saving of processed data.\n",
    "\n",
    "Preprocessing includes next steps: \n",
    "    \n",
    "    - data loading \n",
    "    - fits calibration \n",
    "    \n",
    "Raw data either should be at the disk or can be downloaded from SAO resources. More information about process of data calibration see in paper "
   ]
  },
  {
   "cell_type": "code",
   "execution_count": 17,
   "metadata": {},
   "outputs": [
    {
     "name": "stdout",
     "output_type": "stream",
     "text": [
      "http://spbf.sao.ru/data/ratan/2017/09/20170903_121257_sun+0_out.fits\n"
     ]
    }
   ],
   "source": [
    "ratan_client = RATANClient()\n",
    "timerange = TimeRange('2017-09-03', '2017-09-03')\n",
    "url = ratan_client.acquire_data(timerange)[0]\n",
    "print(url)"
   ]
  },
  {
   "cell_type": "code",
   "execution_count": 23,
   "metadata": {},
   "outputs": [],
   "source": [
    "raw, processed = ratan_client.process_fits_data(\n",
    "    url,\n",
    "    save_path=None,\n",
    "    save_with_original=False\n",
    ")"
   ]
  },
  {
   "cell_type": "code",
   "execution_count": 28,
   "metadata": {},
   "outputs": [
    {
     "data": {
      "text/plain": [
       "SIMPLE  =                    T / conforms to FITS standard                      \n",
       "BITPIX  =                    8 / array data type                                \n",
       "NAXIS   =                    0 / number of array dimensions                     \n",
       "EXTEND  =                    T                                                  \n",
       "CDELT1  =        2.97492578442                                                  \n",
       "CRPIX1  =               1599.0                                                  \n",
       "SOLAR_R =           951.460022                                                  \n",
       "SOLAR_B =                  7.2                                                  \n",
       "DATE-OBS= '2017/09/03'                                                          \n",
       "TIME-OBS= '09:12:57.330'                                                        \n",
       "AZIMUTH =                  0.0                                                  \n",
       "SOL_DEC =                7.413                                                  \n",
       "SOLAR_P =            21.700001                                                  \n",
       "ANGLE   =            21.700001                                                  "
      ]
     },
     "execution_count": 28,
     "metadata": {},
     "output_type": "execute_result"
    }
   ],
   "source": [
    "processed[0].header"
   ]
  },
  {
   "cell_type": "markdown",
   "metadata": {},
   "source": [
    "You can also provide fits file from you local storage simply by providing path to your file to 'url' parameter.\n",
    "\n",
    "Another important usage case is accessing data within a timerange. "
   ]
  },
  {
   "cell_type": "code",
   "execution_count": 36,
   "metadata": {},
   "outputs": [],
   "source": [
    "ratan_client = RATANClient()\n",
    "timerange = TimeRange('2017-09-03', '2017-09-07')\n",
    "raw, processed = ratan_client.process_fits_with_period(timerange)"
   ]
  },
  {
   "cell_type": "code",
   "execution_count": 40,
   "metadata": {},
   "outputs": [
    {
     "name": "stdout",
     "output_type": "stream",
     "text": [
      "Date of accessed file: 2017/09/03\n",
      "Date of accessed file: 2017/09/04\n",
      "Date of accessed file: 2017/09/05\n",
      "Date of accessed file: 2017/09/06\n",
      "Date of accessed file: 2017/09/07\n"
     ]
    }
   ],
   "source": [
    "for fits in processed:\n",
    "    print(f'Date of accessed file: {fits[0].header['DATE-OBS']}')"
   ]
  },
  {
   "cell_type": "markdown",
   "metadata": {},
   "source": [
    "We also implemented methods of accessing RATAN-600 data in another way - you can compute squeezed table of proccessed RATAN-600 solar data and use it as a simple dataframe."
   ]
  },
  {
   "cell_type": "code",
   "execution_count": 41,
   "metadata": {},
   "outputs": [],
   "source": [
    "ratan_client = RATANClient()\n",
    "timerange = TimeRange('2017-09-03', '2017-09-05')\n",
    "processed_table = ratan_client.get_scans(timerange)"
   ]
  },
  {
   "cell_type": "code",
   "execution_count": 52,
   "metadata": {},
   "outputs": [
    {
     "data": {
      "text/html": [
       "<div><i>Table length=3</i>\n",
       "<table id=\"table4956456336\" class=\"table-striped table-bordered table-condensed\">\n",
       "<thead><tr><th>Date</th><th>Time</th><th>SOLAR_R</th></tr></thead>\n",
       "<thead><tr><th>str10</th><th>str12</th><th>float64</th></tr></thead>\n",
       "<tr><td>2017-09-03</td><td>09:12:57.330</td><td>962.6396772584999</td></tr>\n",
       "<tr><td>2017-09-04</td><td>09:12:37.490</td><td>962.8723595235</td></tr>\n",
       "<tr><td>2017-09-05</td><td>09:12:17.400</td><td>963.10504280025</td></tr>\n",
       "</table></div>"
      ],
      "text/plain": [
       "<Table length=3>\n",
       "   Date        Time          SOLAR_R     \n",
       "  str10       str12          float64     \n",
       "---------- ------------ -----------------\n",
       "2017-09-03 09:12:57.330 962.6396772584999\n",
       "2017-09-04 09:12:37.490    962.8723595235\n",
       "2017-09-05 09:12:17.400   963.10504280025"
      ]
     },
     "execution_count": 52,
     "metadata": {},
     "output_type": "execute_result"
    }
   ],
   "source": [
    "processed_table[['Date', 'Time', 'SOLAR_R']]"
   ]
  },
  {
   "cell_type": "code",
   "execution_count": 57,
   "metadata": {},
   "outputs": [
    {
     "name": "stdout",
     "output_type": "stream",
     "text": [
      "Column names: ['Date', 'Time', 'Azimuth', 'SOLAR_R', 'N_shape', 'CRPIX', 'CDELT1', 'Pozitional Angle', 'SOLAR_B', 'Frequency', 'Flux Eficiency ', 'I', 'V']\n"
     ]
    }
   ],
   "source": [
    "print(f'Column names: {processed_table.colnames}')"
   ]
  }
 ],
 "metadata": {
  "kernelspec": {
   "display_name": "Python 3",
   "language": "python",
   "name": "python3"
  },
  "language_info": {
   "codemirror_mode": {
    "name": "ipython",
    "version": 3
   },
   "file_extension": ".py",
   "mimetype": "text/x-python",
   "name": "python",
   "nbconvert_exporter": "python",
   "pygments_lexer": "ipython3",
   "version": "3.12.5"
  }
 },
 "nbformat": 4,
 "nbformat_minor": 2
}
