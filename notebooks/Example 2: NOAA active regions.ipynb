{
 "cells": [
  {
   "cell_type": "code",
   "execution_count": 2,
   "metadata": {},
   "outputs": [],
   "source": [
    "from radiosunpy.time import TimeRange \n",
    "from radiosunpy.client import SRSClient\n",
    "\n",
    "from astropy.io.fits.verify import VerifyWarning\n",
    "import warnings\n",
    "warnings.filterwarnings(\"ignore\")\n",
    "warnings.simplefilter('ignore', category=VerifyWarning)"
   ]
  },
  {
   "cell_type": "markdown",
   "metadata": {},
   "source": [
    "## NOAA active regions\n",
    "`radiosunpy` package also gives access to NOAA SWPC Solar Region Summary reports to obtain information about current active regions. This notebook provides examples of accessing this data."
   ]
  },
  {
   "cell_type": "code",
   "execution_count": 8,
   "metadata": {},
   "outputs": [
    {
     "name": "stdout",
     "output_type": "stream",
     "text": [
      "ftp://ftp.ngdc.noaa.gov/STP/swpc_products/daily_reports/solar_region_summaries/2017/09/20170903SRS.txt\n"
     ]
    }
   ],
   "source": [
    "noaa_client = SRSClient()\n",
    "timerange = TimeRange('2017-09-03', '2017-09-04')\n",
    "url = noaa_client.acquire_data(timerange)[0]\n",
    "print(url)"
   ]
  },
  {
   "cell_type": "code",
   "execution_count": 12,
   "metadata": {},
   "outputs": [],
   "source": [
    "AR_table = noaa_client.get_data(timerange)"
   ]
  },
  {
   "cell_type": "code",
   "execution_count": 13,
   "metadata": {},
   "outputs": [
    {
     "data": {
      "text/html": [
       "<div><i>Table length=9</i>\n",
       "<table id=\"table4411751696\" class=\"table-striped table-bordered table-condensed\">\n",
       "<thead><tr><th>Date</th><th>ID</th><th>Number</th><th>Carrington Longitude</th><th>Area</th><th>Z</th><th>Longitudinal Extent</th><th>Number of Sunspots</th><th>Mag Type</th><th>Latitude</th><th>Longitude</th></tr></thead>\n",
       "<thead><tr><th>str10</th><th>str2</th><th>int64</th><th>int64</th><th>int64</th><th>str3</th><th>int64</th><th>int64</th><th>str10</th><th>float64</th><th>float64</th></tr></thead>\n",
       "<tr><td>2017-09-03</td><td>I</td><td>2673</td><td>119</td><td>60</td><td>Cso</td><td>4</td><td>4</td><td>Beta</td><td>-10.0</td><td>-9.0</td></tr>\n",
       "<tr><td>2017-09-03</td><td>I</td><td>2674</td><td>103</td><td>810</td><td>Fhc</td><td>16</td><td>18</td><td>Beta-Gamma</td><td>14.0</td><td>-25.0</td></tr>\n",
       "<tr><td>2017-09-03</td><td>I</td><td>2675</td><td>179</td><td>30</td><td>Cro</td><td>6</td><td>4</td><td>Beta</td><td>-8.0</td><td>51.0</td></tr>\n",
       "<tr><td>2017-09-03</td><td>I</td><td>2676</td><td>164</td><td>20</td><td>Bxo</td><td>4</td><td>5</td><td>Beta</td><td>-10.0</td><td>36.0</td></tr>\n",
       "<tr><td>2017-09-04</td><td>I</td><td>2673</td><td>117</td><td>130</td><td>Dsc</td><td>7</td><td>12</td><td>Beta-Gamma</td><td>-10.0</td><td>2.0</td></tr>\n",
       "<tr><td>2017-09-04</td><td>I</td><td>2674</td><td>103</td><td>930</td><td>Fhc</td><td>17</td><td>21</td><td>Beta</td><td>14.0</td><td>-12.0</td></tr>\n",
       "<tr><td>2017-09-04</td><td>I</td><td>2675</td><td>178</td><td>50</td><td>Cro</td><td>7</td><td>5</td><td>Beta</td><td>-7.0</td><td>63.0</td></tr>\n",
       "<tr><td>2017-09-04</td><td>I</td><td>2676</td><td>166</td><td>20</td><td>Bxo</td><td>6</td><td>6</td><td>Beta</td><td>-11.0</td><td>51.0</td></tr>\n",
       "<tr><td>2017-09-04</td><td>I</td><td>2677</td><td>51</td><td>10</td><td>Axx</td><td>1</td><td>2</td><td>Alpha</td><td>19.0</td><td>-64.0</td></tr>\n",
       "</table></div>"
      ],
      "text/plain": [
       "<Table length=9>\n",
       "   Date     ID  Number Carrington Longitude ...  Mag Type  Latitude Longitude\n",
       "  str10    str2 int64         int64         ...   str10    float64   float64 \n",
       "---------- ---- ------ -------------------- ... ---------- -------- ---------\n",
       "2017-09-03    I   2673                  119 ...       Beta    -10.0      -9.0\n",
       "2017-09-03    I   2674                  103 ... Beta-Gamma     14.0     -25.0\n",
       "2017-09-03    I   2675                  179 ...       Beta     -8.0      51.0\n",
       "2017-09-03    I   2676                  164 ...       Beta    -10.0      36.0\n",
       "2017-09-04    I   2673                  117 ... Beta-Gamma    -10.0       2.0\n",
       "2017-09-04    I   2674                  103 ...       Beta     14.0     -12.0\n",
       "2017-09-04    I   2675                  178 ...       Beta     -7.0      63.0\n",
       "2017-09-04    I   2676                  166 ...       Beta    -11.0      51.0\n",
       "2017-09-04    I   2677                   51 ...      Alpha     19.0     -64.0"
      ]
     },
     "execution_count": 13,
     "metadata": {},
     "output_type": "execute_result"
    }
   ],
   "source": [
    "AR_table"
   ]
  },
  {
   "cell_type": "markdown",
   "metadata": {},
   "source": [
    "The SRS tables contain a detailed description of the active regions currently visible on the solar disk. Example of such report can be seen at https://www.swpc.noaa.gov/products/solar-region-summary\n",
    "\n"
   ]
  }
 ],
 "metadata": {
  "kernelspec": {
   "display_name": "Python 3",
   "language": "python",
   "name": "python3"
  },
  "language_info": {
   "codemirror_mode": {
    "name": "ipython",
    "version": 3
   },
   "file_extension": ".py",
   "mimetype": "text/x-python",
   "name": "python",
   "nbconvert_exporter": "python",
   "pygments_lexer": "ipython3",
   "version": "3.12.5"
  }
 },
 "nbformat": 4,
 "nbformat_minor": 2
}
