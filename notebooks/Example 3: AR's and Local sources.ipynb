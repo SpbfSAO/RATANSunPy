{
 "cells": [
  {
   "cell_type": "code",
   "execution_count": 1,
   "metadata": {},
   "outputs": [
    {
     "name": "stderr",
     "output_type": "stream",
     "text": [
      "/opt/homebrew/lib/python3.12/site-packages/openpyxl/styles/stylesheet.py:237: UserWarning: Workbook contains no default style, apply openpyxl's default\n",
      "  warn(\"Workbook contains no default style, apply openpyxl's default\")\n"
     ]
    }
   ],
   "source": [
    "from radiosunpy.time import TimeRange \n",
    "from radiosunpy.client import RATANClient\n",
    "\n",
    "from astropy.io.fits.verify import VerifyWarning\n",
    "from astropy.table import Table\n",
    "import warnings\n",
    "warnings.filterwarnings(\"ignore\")\n",
    "warnings.simplefilter('ignore', category=VerifyWarning)"
   ]
  },
  {
   "cell_type": "markdown",
   "metadata": {},
   "source": [
    "## AR's and Local sources \n",
    "One of the most important information we can obtain from NOAA and RATAN-600 data is the information about active regions and distinct local sources located within them.\n",
    "\n",
    "To collect such data a few techniques are used:\n",
    " \n",
    "    - matching SWPC SRS and RATAN-600 data through spatial and time coordinates     transforms \n",
    "    - denoising RATAN-600 data with wavelet decomposition \n",
    "    - searching for active regions and using Gauss-analysis to get information about their local sources\n",
    "\n",
    "In 'radiosunpy' we implemented some interfaces that give access to prepared AR's data and don't require special knowledges of raw data proccessing"
   ]
  },
  {
   "cell_type": "code",
   "execution_count": 4,
   "metadata": {},
   "outputs": [],
   "source": [
    "ratan_client = RATANClient()\n",
    "timerange = TimeRange('2017-09-03', '2017-09-03')\n",
    "url = ratan_client.acquire_data(timerange)\n",
    "\n",
    "ar_table = ratan_client.get_ar_info_from_processed(url[0])"
   ]
  },
  {
   "cell_type": "markdown",
   "metadata": {},
   "source": [
    "This way you can get a table of Sun's AR collected from RATAN-600 scans"
   ]
  },
  {
   "cell_type": "code",
   "execution_count": 5,
   "metadata": {},
   "outputs": [
    {
     "data": {
      "text/html": [
       "<div><i>Table length=4</i>\n",
       "<table id=\"table4545936272\" class=\"table-striped table-bordered table-condensed\">\n",
       "<thead><tr><th>RatanTime</th><th>Number</th><th>Mag Type</th><th>Number of Sunspots</th><th>Area</th><th>Z</th><th>TotalFlux</th><th>MaxAmplitude</th><th>MaxLat</th><th>MinLat</th></tr></thead>\n",
       "<thead><tr><th>str16</th><th>int64</th><th>str10</th><th>int64</th><th>int64</th><th>str3</th><th>float32[84]</th><th>float32[84]</th><th>float32[84]</th><th>float32[84]</th></tr></thead>\n",
       "<tr><td>2017/09/03 09:12</td><td>2673</td><td>Beta</td><td>4</td><td>60</td><td>Cso</td><td>2.9908085 .. 19.006907</td><td>0.047695562 .. 0.24316373</td><td>64.08044 .. 64.08044</td><td>-31.148932 .. -31.148932</td></tr>\n",
       "<tr><td>2017/09/03 09:12</td><td>2674</td><td>Beta-Gamma</td><td>18</td><td>810</td><td>Fhc</td><td>20.183126 .. 75.247894</td><td>0.06489137 .. 0.25168955</td><td>-200.77625 .. -200.77625</td><td>-522.17535 .. -522.17535</td></tr>\n",
       "<tr><td>2017/09/03 09:12</td><td>2675</td><td>Beta</td><td>4</td><td>30</td><td>Cro</td><td>3.7685025 .. 26.04371</td><td>0.032128137 .. 0.20652166</td><td>891.38556 .. 891.38556</td><td>757.4693 .. 757.4693</td></tr>\n",
       "<tr><td>2017/09/03 09:12</td><td>2676</td><td>Beta</td><td>5</td><td>20</td><td>Bxo</td><td>1.4643607 .. 17.274052</td><td>0.026128968 .. 0.21883672</td><td>733.6619 .. 733.6619</td><td>638.43256 .. 638.43256</td></tr>\n",
       "</table></div>"
      ],
      "text/plain": [
       "<Table length=4>\n",
       "   RatanTime     Number ...          MaxLat                   MinLat         \n",
       "     str16       int64  ...       float32[84]              float32[84]       \n",
       "---------------- ------ ... ------------------------ ------------------------\n",
       "2017/09/03 09:12   2673 ...     64.08044 .. 64.08044 -31.148932 .. -31.148932\n",
       "2017/09/03 09:12   2674 ... -200.77625 .. -200.77625 -522.17535 .. -522.17535\n",
       "2017/09/03 09:12   2675 ...   891.38556 .. 891.38556     757.4693 .. 757.4693\n",
       "2017/09/03 09:12   2676 ...     733.6619 .. 733.6619   638.43256 .. 638.43256"
      ]
     },
     "execution_count": 5,
     "metadata": {},
     "output_type": "execute_result"
    }
   ],
   "source": [
    "Table(ar_table[1].data)"
   ]
  },
  {
   "cell_type": "markdown",
   "metadata": {},
   "source": [
    "On the other hand, there is a way to get a deeper detailed information, which is a table of Local sources data collected from RATAN-600 scans\n",
    "\n",
    "Local sources are found as the closest local extremas to the true AR location"
   ]
  },
  {
   "cell_type": "code",
   "execution_count": 6,
   "metadata": {},
   "outputs": [
    {
     "data": {
      "text/html": [
       "<div><i>Table length=8</i>\n",
       "<table id=\"table4353133648\" class=\"table-striped table-bordered table-condensed\">\n",
       "<thead><tr><th>Date</th><th>Azimuth</th><th>ID</th><th>Number</th><th>Data Index</th><th>Masked Index</th><th>Carrington Longitude</th><th>Area</th><th>Z</th><th>Longitudinal Extent</th><th>Number of Sunspots</th><th>Mag Type</th><th>Latitude</th><th>Longitude</th><th>RatanTime</th><th>Amplitude</th><th>Mean</th><th>Sigma</th><th>FWHM</th><th>Flux</th><th>Total Flux</th><th>Range</th></tr></thead>\n",
       "<thead><tr><th>str10</th><th>int16</th><th>str2</th><th>int64</th><th>int32</th><th>int32</th><th>int64</th><th>int64</th><th>str3</th><th>int64</th><th>int64</th><th>str10</th><th>float64</th><th>float64</th><th>str16</th><th>object[84]</th><th>object[84]</th><th>object[84]</th><th>object[84]</th><th>object[84]</th><th>object[84]</th><th>object[84]</th></tr></thead>\n",
       "<tr><td>2017-09-03</td><td>0</td><td>I</td><td>2674</td><td>1499</td><td>220</td><td>103</td><td>810</td><td>Fhc</td><td>16</td><td>18</td><td>Beta-Gamma</td><td>-296.00561153608214</td><td>-0.6094350999806579</td><td>2017/09/03 09:12</td><td>{&apos;freq&apos;: np.float32(3.09375), &apos;amplitude&apos;: np.float64(0.06472389963477423)} .. {&apos;freq&apos;: np.float32(17.90625), &apos;amplitude&apos;: np.float64(0.23000598929026342)}</td><td>{&apos;freq&apos;: np.float32(3.09375), &apos;mean&apos;: np.float64(-313.31156578570653)} .. {&apos;freq&apos;: np.float32(17.90625), &apos;mean&apos;: np.float64(-318.35894947891023)}</td><td>{&apos;freq&apos;: np.float32(3.09375), &apos;sigma&apos;: np.float64(43.47369545751228)} .. {&apos;freq&apos;: np.float32(17.90625), &apos;sigma&apos;: np.float64(23.28714805765891)}</td><td>{&apos;freq&apos;: np.float32(3.09375), &apos;fwhm&apos;: np.float64(102.37272949492083)} .. {&apos;freq&apos;: np.float32(17.90625), &apos;fwhm&apos;: np.float64(54.83704303777874)}</td><td>{&apos;freq&apos;: np.float32(3.09375), &apos;flux&apos;: np.float64(7.053118307524118)} .. {&apos;freq&apos;: np.float32(17.90625), &apos;flux&apos;: np.float64(13.425961072266027)}</td><td>{&apos;freq&apos;: np.float32(3.09375), &apos;flux&apos;: np.float64(20.183126941262948)} .. {&apos;freq&apos;: np.float32(17.90625), &apos;flux&apos;: np.float64(75.24789660449386)}</td><td>{&apos;freq&apos;: np.float32(3.09375), &apos;x_range&apos;: (np.float64(-522.1753610685137), np.float64(-200.77624331190145))} .. {&apos;freq&apos;: np.float32(17.90625), &apos;x_range&apos;: (np.float64(-522.1753610685137), np.float64(-200.77624331190145))}</td></tr>\n",
       "<tr><td>2017-09-03</td><td>0</td><td>I</td><td>2674</td><td>1515</td><td>236</td><td>103</td><td>810</td><td>Fhc</td><td>16</td><td>18</td><td>Beta-Gamma</td><td>-248.39092742399134</td><td>-0.6094350999806579</td><td>2017/09/03 09:12</td><td>{&apos;freq&apos;: np.float32(3.09375), &apos;amplitude&apos;: np.float64(0.04156689128365364)} .. {&apos;freq&apos;: np.float32(17.90625), &apos;amplitude&apos;: np.float64(0.2390522084131382)}</td><td>{&apos;freq&apos;: np.float32(3.09375), &apos;mean&apos;: np.float64(-250.06903079078504)} .. {&apos;freq&apos;: np.float32(17.90625), &apos;mean&apos;: np.float64(-248.06197034870436)}</td><td>{&apos;freq&apos;: np.float32(3.09375), &apos;sigma&apos;: np.float64(25.97490804154177)} .. {&apos;freq&apos;: np.float32(17.90625), &apos;sigma&apos;: np.float64(36.687276536379215)}</td><td>{&apos;freq&apos;: np.float32(3.09375), &apos;fwhm&apos;: np.float64(61.16623412405816)} .. {&apos;freq&apos;: np.float32(17.90625), &apos;fwhm&apos;: np.float64(86.39193418545939)}</td><td>{&apos;freq&apos;: np.float32(3.09375), &apos;flux&apos;: np.float64(2.706396969454406)} .. {&apos;freq&apos;: np.float32(17.90625), &apos;flux&apos;: np.float64(21.983567316705656)}</td><td>{&apos;freq&apos;: np.float32(3.09375), &apos;flux&apos;: np.float64(20.183126941262948)} .. {&apos;freq&apos;: np.float32(17.90625), &apos;flux&apos;: np.float64(75.24789660449386)}</td><td>{&apos;freq&apos;: np.float32(3.09375), &apos;x_range&apos;: (np.float64(-522.1753610685137), np.float64(-200.77624331190145))} .. {&apos;freq&apos;: np.float32(17.90625), &apos;x_range&apos;: (np.float64(-522.1753610685137), np.float64(-200.77624331190145))}</td></tr>\n",
       "<tr><td>2017-09-03</td><td>0</td><td>I</td><td>2674</td><td>1439</td><td>160</td><td>103</td><td>810</td><td>Fhc</td><td>16</td><td>18</td><td>Beta-Gamma</td><td>-474.56067695642287</td><td>-0.6094350999806579</td><td>2017/09/03 09:12</td><td>{&apos;freq&apos;: np.float32(3.09375), &apos;amplitude&apos;: np.float64(0.03887129438758114)} .. {&apos;freq&apos;: np.float32(17.90625), &apos;amplitude&apos;: np.float64(0.22113090891137757)}</td><td>{&apos;freq&apos;: np.float32(3.09375), &apos;mean&apos;: np.float64(-469.8891505458664)} .. {&apos;freq&apos;: np.float32(17.90625), &apos;mean&apos;: np.float64(-459.4161970858242)}</td><td>{&apos;freq&apos;: np.float32(3.09375), &apos;sigma&apos;: np.float64(25.221851062012274)} .. {&apos;freq&apos;: np.float32(17.90625), &apos;sigma&apos;: np.float64(30.230310288290262)}</td><td>{&apos;freq&apos;: np.float32(3.09375), &apos;fwhm&apos;: np.float64(59.39292045361164)} .. {&apos;freq&apos;: np.float32(17.90625), &apos;fwhm&apos;: np.float64(71.18694063437124)}</td><td>{&apos;freq&apos;: np.float32(3.09375), &apos;flux&apos;: np.float64(2.4575133942801926)} .. {&apos;freq&apos;: np.float32(17.90625), &apos;flux&apos;: np.float64(16.75644903818168)}</td><td>{&apos;freq&apos;: np.float32(3.09375), &apos;flux&apos;: np.float64(20.183126941262948)} .. {&apos;freq&apos;: np.float32(17.90625), &apos;flux&apos;: np.float64(75.24789660449386)}</td><td>{&apos;freq&apos;: np.float32(3.09375), &apos;x_range&apos;: (np.float64(-522.1753610685137), np.float64(-200.77624331190145))} .. {&apos;freq&apos;: np.float32(17.90625), &apos;x_range&apos;: (np.float64(-522.1753610685137), np.float64(-200.77624331190145))}</td></tr>\n",
       "<tr><td>2017-09-03</td><td>0</td><td>I</td><td>2674</td><td>1468</td><td>189</td><td>103</td><td>810</td><td>Fhc</td><td>16</td><td>18</td><td>Beta-Gamma</td><td>-388.2590620032579</td><td>-0.6094350999806579</td><td>2017/09/03 09:12</td><td>{&apos;freq&apos;: np.float32(3.09375), &apos;amplitude&apos;: np.float64(0.0648913650191239)} .. {&apos;freq&apos;: np.float32(17.90625), &apos;amplitude&apos;: np.float64(0.2516895539503464)}</td><td>{&apos;freq&apos;: np.float32(3.09375), &apos;mean&apos;: np.float64(-381.2107855365319)} .. {&apos;freq&apos;: np.float32(17.90625), &apos;mean&apos;: np.float64(-376.79230383676025)}</td><td>{&apos;freq&apos;: np.float32(3.09375), &apos;sigma&apos;: np.float64(48.9743652148605)} .. {&apos;freq&apos;: np.float32(17.90625), &apos;sigma&apos;: np.float64(36.586156747953126)}</td><td>{&apos;freq&apos;: np.float32(3.09375), &apos;fwhm&apos;: np.float64(115.32581690061996)} .. {&apos;freq&apos;: np.float32(17.90625), &apos;fwhm&apos;: np.float64(86.15381528072434)}</td><td>{&apos;freq&apos;: np.float32(3.09375), &apos;flux&apos;: np.float64(7.966098270004233)} .. {&apos;freq&apos;: np.float32(17.90625), &apos;flux&apos;: np.float64(23.081919177340495)}</td><td>{&apos;freq&apos;: np.float32(3.09375), &apos;flux&apos;: np.float64(20.183126941262948)} .. {&apos;freq&apos;: np.float32(17.90625), &apos;flux&apos;: np.float64(75.24789660449386)}</td><td>{&apos;freq&apos;: np.float32(3.09375), &apos;x_range&apos;: (np.float64(-522.1753610685137), np.float64(-200.77624331190145))} .. {&apos;freq&apos;: np.float32(17.90625), &apos;x_range&apos;: (np.float64(-522.1753610685137), np.float64(-200.77624331190145))}</td></tr>\n",
       "<tr><td>2017-09-03</td><td>0</td><td>I</td><td>2673</td><td>1604</td><td>325</td><td>119</td><td>60</td><td>Cso</td><td>4</td><td>4</td><td>Beta</td><td>16.465752949512535</td><td>-282.6809474507876</td><td>2017/09/03 09:12</td><td>{&apos;freq&apos;: np.float32(3.09375), &apos;amplitude&apos;: np.float64(0.04769556103216589)} .. {&apos;freq&apos;: np.float32(17.90625), &apos;amplitude&apos;: np.float64(0.2431637393394354)}</td><td>{&apos;freq&apos;: np.float32(3.09375), &apos;mean&apos;: np.float64(12.447417530927682)} .. {&apos;freq&apos;: np.float32(17.90625), &apos;mean&apos;: np.float64(3.0409297056572737)}</td><td>{&apos;freq&apos;: np.float32(3.09375), &apos;sigma&apos;: np.float64(25.016163821617116)} .. {&apos;freq&apos;: np.float32(17.90625), &apos;sigma&apos;: np.float64(31.183345591449882)}</td><td>{&apos;freq&apos;: np.float32(3.09375), &apos;fwhm&apos;: np.float64(58.90856401692202)} .. {&apos;freq&apos;: np.float32(17.90625), &apos;fwhm&apos;: np.float64(73.43116726987367)}</td><td>{&apos;freq&apos;: np.float32(3.09375), &apos;flux&apos;: np.float64(2.9908085128104025)} .. {&apos;freq&apos;: np.float32(17.90625), &apos;flux&apos;: np.float64(19.00690724357633)}</td><td>{&apos;freq&apos;: np.float32(3.09375), &apos;flux&apos;: np.float64(2.9908085128104025)} .. {&apos;freq&apos;: np.float32(17.90625), &apos;flux&apos;: np.float64(19.00690724357633)}</td><td>{&apos;freq&apos;: np.float32(3.09375), &apos;x_range&apos;: (np.float64(-31.148931162578265), np.float64(64.08043706160333))} .. {&apos;freq&apos;: np.float32(17.90625), &apos;x_range&apos;: (np.float64(-31.148931162578265), np.float64(64.08043706160333))}</td></tr>\n",
       "<tr><td>2017-09-03</td><td>0</td><td>I</td><td>2676</td><td>1829</td><td>550</td><td>164</td><td>20</td><td>Bxo</td><td>4</td><td>5</td><td>Beta</td><td>686.0472482757887</td><td>-7.442298067666002</td><td>2017/09/03 09:12</td><td>{&apos;freq&apos;: np.float32(3.09375), &apos;amplitude&apos;: np.float64(0.026128967864675876)} .. {&apos;freq&apos;: np.float32(17.90625), &apos;amplitude&apos;: np.float64(0.21883672128822715)}</td><td>{&apos;freq&apos;: np.float32(3.09375), &apos;mean&apos;: np.float64(676.1983658252536)} .. {&apos;freq&apos;: np.float32(17.90625), &apos;mean&apos;: np.float64(668.1498557372081)}</td><td>{&apos;freq&apos;: np.float32(3.09375), &apos;sigma&apos;: np.float64(22.358151301179507)} .. {&apos;freq&apos;: np.float32(17.90625), &apos;sigma&apos;: np.float64(31.49082756669322)}</td><td>{&apos;freq&apos;: np.float32(3.09375), &apos;fwhm&apos;: np.float64(52.64942285385231)} .. {&apos;freq&apos;: np.float32(17.90625), &apos;fwhm&apos;: np.float64(74.1552319886624)}</td><td>{&apos;freq&apos;: np.float32(3.09375), &apos;flux&apos;: np.float64(1.464360749816335)} .. {&apos;freq&apos;: np.float32(17.90625), &apos;flux&apos;: np.float64(17.274051395138404)}</td><td>{&apos;freq&apos;: np.float32(3.09375), &apos;flux&apos;: np.float64(1.464360749816335)} .. {&apos;freq&apos;: np.float32(17.90625), &apos;flux&apos;: np.float64(17.274051395138404)}</td><td>{&apos;freq&apos;: np.float32(3.09375), &apos;x_range&apos;: (np.float64(638.4325641636979), np.float64(733.6619323878786))} .. {&apos;freq&apos;: np.float32(17.90625), &apos;x_range&apos;: (np.float64(638.4325641636979), np.float64(733.6619323878786))}</td></tr>\n",
       "<tr><td>2017-09-03</td><td>0</td><td>I</td><td>2675</td><td>1869</td><td>590</td><td>179</td><td>30</td><td>Cro</td><td>6</td><td>4</td><td>Beta</td><td>805.0839585560152</td><td>106.6366431326339</td><td>2017/09/03 09:12</td><td>{&apos;freq&apos;: np.float32(3.09375), &apos;amplitude&apos;: np.float64(0.03212813816226015)} .. {&apos;freq&apos;: np.float32(17.90625), &apos;amplitude&apos;: np.float64(0.20652165953191082)}</td><td>{&apos;freq&apos;: np.float32(3.09375), &apos;mean&apos;: np.float64(781.0023240968623)} .. {&apos;freq&apos;: np.float32(17.90625), &apos;mean&apos;: np.float64(774.556375039934)}</td><td>{&apos;freq&apos;: np.float32(3.09375), &apos;sigma&apos;: np.float64(36.31445980034065)} .. {&apos;freq&apos;: np.float32(17.90625), &apos;sigma&apos;: np.float64(27.754233232802175)}</td><td>{&apos;freq&apos;: np.float32(3.09375), &apos;fwhm&apos;: np.float64(85.51401786231277)} .. {&apos;freq&apos;: np.float32(17.90625), &apos;fwhm&apos;: np.float64(65.35622475106669)}</td><td>{&apos;freq&apos;: np.float32(3.09375), &apos;flux&apos;: np.float64(2.9245232683264035)} .. {&apos;freq&apos;: np.float32(17.90625), &apos;flux&apos;: np.float64(14.367618043658807)}</td><td>{&apos;freq&apos;: np.float32(3.09375), &apos;flux&apos;: np.float64(3.768502512408318)} .. {&apos;freq&apos;: np.float32(17.90625), &apos;flux&apos;: np.float64(26.043709943806363)}</td><td>{&apos;freq&apos;: np.float32(3.09375), &apos;x_range&apos;: (np.float64(757.4692744439244), np.float64(891.3855735091793))} .. {&apos;freq&apos;: np.float32(17.90625), &apos;x_range&apos;: (np.float64(757.4692744439244), np.float64(891.3855735091793))}</td></tr>\n",
       "<tr><td>2017-09-03</td><td>0</td><td>I</td><td>2675</td><td>1882</td><td>603</td><td>179</td><td>30</td><td>Cro</td><td>6</td><td>4</td><td>Beta</td><td>843.7708893970885</td><td>106.6366431326339</td><td>2017/09/03 09:12</td><td>{&apos;freq&apos;: np.float32(3.09375), &apos;amplitude&apos;: np.float64(0.017831250439971934)} .. {&apos;freq&apos;: np.float32(17.90625), &apos;amplitude&apos;: np.float64(0.17452452832411455)}</td><td>{&apos;freq&apos;: np.float32(3.09375), &apos;mean&apos;: np.float64(852.3482117395315)} .. {&apos;freq&apos;: np.float32(17.90625), &apos;mean&apos;: np.float64(839.5726060791426)}</td><td>{&apos;freq&apos;: np.float32(3.09375), &apos;sigma&apos;: np.float64(18.88252343148887)} .. {&apos;freq&apos;: np.float32(17.90625), &apos;sigma&apos;: np.float64(26.69015509482367)}</td><td>{&apos;freq&apos;: np.float32(3.09375), &apos;fwhm&apos;: np.float64(44.46494467723658)} .. {&apos;freq&apos;: np.float32(17.90625), &apos;fwhm&apos;: np.float64(62.8505122222757)}</td><td>{&apos;freq&apos;: np.float32(3.09375), &apos;flux&apos;: np.float64(0.8439792440819143)} .. {&apos;freq&apos;: np.float32(17.90625), &apos;flux&apos;: np.float64(11.676091900147556)}</td><td>{&apos;freq&apos;: np.float32(3.09375), &apos;flux&apos;: np.float64(3.768502512408318)} .. {&apos;freq&apos;: np.float32(17.90625), &apos;flux&apos;: np.float64(26.043709943806363)}</td><td>{&apos;freq&apos;: np.float32(3.09375), &apos;x_range&apos;: (np.float64(757.4692744439244), np.float64(891.3855735091793))} .. {&apos;freq&apos;: np.float32(17.90625), &apos;x_range&apos;: (np.float64(757.4692744439244), np.float64(891.3855735091793))}</td></tr>\n",
       "</table></div>"
      ],
      "text/plain": [
       "<Table length=8>\n",
       "   Date    ...\n",
       "  str10    ...\n",
       "---------- ...\n",
       "2017-09-03 ...\n",
       "2017-09-03 ...\n",
       "2017-09-03 ...\n",
       "2017-09-03 ...\n",
       "2017-09-03 ...\n",
       "2017-09-03 ...\n",
       "2017-09-03 ...\n",
       "2017-09-03 ..."
      ]
     },
     "execution_count": 6,
     "metadata": {},
     "output_type": "execute_result"
    }
   ],
   "source": [
    "ls_table = ratan_client.get_local_sources_info_from_processed(url[0])\n",
    "ls_table"
   ]
  }
 ],
 "metadata": {
  "kernelspec": {
   "display_name": "Python 3",
   "language": "python",
   "name": "python3"
  },
  "language_info": {
   "codemirror_mode": {
    "name": "ipython",
    "version": 3
   },
   "file_extension": ".py",
   "mimetype": "text/x-python",
   "name": "python",
   "nbconvert_exporter": "python",
   "pygments_lexer": "ipython3",
   "version": "3.12.5"
  }
 },
 "nbformat": 4,
 "nbformat_minor": 2
}
